{
 "cells": [
  {
   "cell_type": "markdown",
   "id": "6d85032a",
   "metadata": {
    "_cell_guid": "b1076dfc-b9ad-4769-8c92-a6c4dae69d19",
    "_uuid": "8f2839f25d086af736a60e9eeb907d3b93b6e0e5",
    "papermill": {
     "duration": 0.002349,
     "end_time": "2023-10-20T07:05:02.468032",
     "exception": false,
     "start_time": "2023-10-20T07:05:02.465683",
     "status": "completed"
    },
    "tags": []
   },
   "source": [
    "### Practical No.10: Write a Pandas program to implement following operation\n",
    "### •\tto find and drop the missing values from the given dataset"
   ]
  },
  {
   "cell_type": "code",
   "execution_count": 1,
   "id": "94002426",
   "metadata": {
    "execution": {
     "iopub.execute_input": "2023-10-20T07:05:02.474573Z",
     "iopub.status.busy": "2023-10-20T07:05:02.473875Z",
     "iopub.status.idle": "2023-10-20T07:05:03.363231Z",
     "shell.execute_reply": "2023-10-20T07:05:03.362040Z"
    },
    "papermill": {
     "duration": 0.896029,
     "end_time": "2023-10-20T07:05:03.366062",
     "exception": false,
     "start_time": "2023-10-20T07:05:02.470033",
     "status": "completed"
    },
    "tags": []
   },
   "outputs": [
    {
     "name": "stdout",
     "output_type": "stream",
     "text": [
      "            Date     Symbol Series  Prev Close    Open     High      Low  \\\n",
      "0     2000-01-03   KOTAKMAH     EQ      212.35   220.0   229.35   220.00   \n",
      "1     2000-01-04   KOTAKMAH     EQ      229.35   247.7   247.70   225.25   \n",
      "2     2000-01-05   KOTAKMAH     EQ      246.95   229.0   240.00   227.20   \n",
      "3     2000-01-06   KOTAKMAH     EQ      228.40   235.1   239.00   217.00   \n",
      "4     2000-01-07   KOTAKMAH     EQ      225.90   213.0   219.00   207.85   \n",
      "...          ...        ...    ...         ...     ...      ...      ...   \n",
      "4980  2021-04-26  KOTAKBANK     EQ     1734.20  1740.0  1783.00  1733.30   \n",
      "4981  2021-04-27  KOTAKBANK     EQ     1759.65  1750.0  1762.60  1724.55   \n",
      "4982  2021-04-28  KOTAKBANK     EQ     1750.30  1762.5  1824.00  1754.00   \n",
      "4983  2021-04-29  KOTAKBANK     EQ     1811.45  1825.1  1845.45  1780.55   \n",
      "4984  2021-04-30  KOTAKBANK     EQ     1805.00  1780.0  1802.00  1739.45   \n",
      "\n",
      "         Last    Close     VWAP   Volume      Turnover    Trades  \\\n",
      "0      229.35   229.35   229.13     7086  1.623640e+11       NaN   \n",
      "1      247.70   246.95   244.12    73681  1.798729e+12       NaN   \n",
      "2      228.00   228.40   233.75   105799  2.473093e+12       NaN   \n",
      "3      224.95   225.90   226.84    40202  9.119546e+11       NaN   \n",
      "4      207.85   208.85   209.94    24463  5.135747e+11       NaN   \n",
      "...       ...      ...      ...      ...           ...       ...   \n",
      "4980  1761.85  1759.65  1766.82  3253062  5.747583e+14   94734.0   \n",
      "4981  1753.05  1750.30  1740.41  4533360  7.889887e+14  133983.0   \n",
      "4982  1815.00  1811.45  1798.00  4174599  7.505945e+14  118297.0   \n",
      "4983  1802.60  1805.00  1811.62  3960095  7.174186e+14  148490.0   \n",
      "4984  1743.75  1748.80  1775.65  2621783  4.655364e+14  105233.0   \n",
      "\n",
      "      Deliverable Volume  %Deliverble  \n",
      "0                    NaN          NaN  \n",
      "1                    NaN          NaN  \n",
      "2                    NaN          NaN  \n",
      "3                    NaN          NaN  \n",
      "4                    NaN          NaN  \n",
      "...                  ...          ...  \n",
      "4980           1795465.0       0.5519  \n",
      "4981           2353189.0       0.5191  \n",
      "4982           2170192.0       0.5199  \n",
      "4983           1482157.0       0.3743  \n",
      "4984           1075787.0       0.4103  \n",
      "\n",
      "[4985 rows x 15 columns]\n",
      "       Date  Symbol  Series  Prev Close   Open   High    Low   Last  Close  \\\n",
      "0     False   False   False       False  False  False  False  False  False   \n",
      "1     False   False   False       False  False  False  False  False  False   \n",
      "2     False   False   False       False  False  False  False  False  False   \n",
      "3     False   False   False       False  False  False  False  False  False   \n",
      "4     False   False   False       False  False  False  False  False  False   \n",
      "...     ...     ...     ...         ...    ...    ...    ...    ...    ...   \n",
      "4980  False   False   False       False  False  False  False  False  False   \n",
      "4981  False   False   False       False  False  False  False  False  False   \n",
      "4982  False   False   False       False  False  False  False  False  False   \n",
      "4983  False   False   False       False  False  False  False  False  False   \n",
      "4984  False   False   False       False  False  False  False  False  False   \n",
      "\n",
      "       VWAP  Volume  Turnover  Trades  Deliverable Volume  %Deliverble  \n",
      "0     False   False     False    True                True         True  \n",
      "1     False   False     False    True                True         True  \n",
      "2     False   False     False    True                True         True  \n",
      "3     False   False     False    True                True         True  \n",
      "4     False   False     False    True                True         True  \n",
      "...     ...     ...       ...     ...                 ...          ...  \n",
      "4980  False   False     False   False               False        False  \n",
      "4981  False   False     False   False               False        False  \n",
      "4982  False   False     False   False               False        False  \n",
      "4983  False   False     False   False               False        False  \n",
      "4984  False   False     False   False               False        False  \n",
      "\n",
      "[4985 rows x 15 columns]\n",
      "            Date     Symbol Series  Prev Close    Open     High      Low  \\\n",
      "2529  2011-06-01  KOTAKBANK     EQ      441.45   441.1   446.85   439.00   \n",
      "2530  2011-06-02  KOTAKBANK     EQ      441.10   437.8   440.00   429.20   \n",
      "2531  2011-06-03  KOTAKBANK     EQ      432.05   432.0   439.45   432.00   \n",
      "2532  2011-06-06  KOTAKBANK     EQ      435.60   432.3   443.90   432.30   \n",
      "2533  2011-06-07  KOTAKBANK     EQ      442.90   439.4   449.60   439.00   \n",
      "...          ...        ...    ...         ...     ...      ...      ...   \n",
      "4980  2021-04-26  KOTAKBANK     EQ     1734.20  1740.0  1783.00  1733.30   \n",
      "4981  2021-04-27  KOTAKBANK     EQ     1759.65  1750.0  1762.60  1724.55   \n",
      "4982  2021-04-28  KOTAKBANK     EQ     1750.30  1762.5  1824.00  1754.00   \n",
      "4983  2021-04-29  KOTAKBANK     EQ     1811.45  1825.1  1845.45  1780.55   \n",
      "4984  2021-04-30  KOTAKBANK     EQ     1805.00  1780.0  1802.00  1739.45   \n",
      "\n",
      "         Last    Close     VWAP   Volume      Turnover    Trades  \\\n",
      "2529   441.40   441.10   441.84   164679  7.276232e+12    6242.0   \n",
      "2530   433.00   432.05   432.45   617786  2.671604e+13   11664.0   \n",
      "2531   437.25   435.60   436.49   657094  2.868136e+13   15523.0   \n",
      "2532   442.05   442.90   437.84  1083485  4.743945e+13   15113.0   \n",
      "2533   447.95   447.75   447.51  1151133  5.151470e+13   12553.0   \n",
      "...       ...      ...      ...      ...           ...       ...   \n",
      "4980  1761.85  1759.65  1766.82  3253062  5.747583e+14   94734.0   \n",
      "4981  1753.05  1750.30  1740.41  4533360  7.889887e+14  133983.0   \n",
      "4982  1815.00  1811.45  1798.00  4174599  7.505945e+14  118297.0   \n",
      "4983  1802.60  1805.00  1811.62  3960095  7.174186e+14  148490.0   \n",
      "4984  1743.75  1748.80  1775.65  2621783  4.655364e+14  105233.0   \n",
      "\n",
      "      Deliverable Volume  %Deliverble  \n",
      "2529             53108.0       0.3225  \n",
      "2530            295497.0       0.4783  \n",
      "2531            384943.0       0.5858  \n",
      "2532            868166.0       0.8013  \n",
      "2533            804423.0       0.6988  \n",
      "...                  ...          ...  \n",
      "4980           1795465.0       0.5519  \n",
      "4981           2353189.0       0.5191  \n",
      "4982           2170192.0       0.5199  \n",
      "4983           1482157.0       0.3743  \n",
      "4984           1075787.0       0.4103  \n",
      "\n",
      "[2456 rows x 15 columns]\n"
     ]
    }
   ],
   "source": [
    "# Name : Deven Makwana J\n",
    "# Enrollment No : 216270307004\n",
    "\n",
    "import pandas as pd\n",
    "df=pd.read_csv('/kaggle/input/nifty50-stock-market-data/KOTAKBANK.csv')\n",
    "mis=df. isna()\n",
    "df_clean=df.dropna(axis=0)\n",
    "print(df)\n",
    "print(mis)\n",
    "print(df_clean)"
   ]
  },
  {
   "cell_type": "markdown",
   "id": "8b5bd36d",
   "metadata": {
    "papermill": {
     "duration": 0.001809,
     "end_time": "2023-10-20T07:05:03.370080",
     "exception": false,
     "start_time": "2023-10-20T07:05:03.368271",
     "status": "completed"
    },
    "tags": []
   },
   "source": [
    "### •\tto remove the duplicates from the given dataset"
   ]
  },
  {
   "cell_type": "code",
   "execution_count": 2,
   "id": "024f48de",
   "metadata": {
    "execution": {
     "iopub.execute_input": "2023-10-20T07:05:03.376332Z",
     "iopub.status.busy": "2023-10-20T07:05:03.375384Z",
     "iopub.status.idle": "2023-10-20T07:05:03.427462Z",
     "shell.execute_reply": "2023-10-20T07:05:03.426049Z"
    },
    "papermill": {
     "duration": 0.058119,
     "end_time": "2023-10-20T07:05:03.430173",
     "exception": false,
     "start_time": "2023-10-20T07:05:03.372054",
     "status": "completed"
    },
    "tags": []
   },
   "outputs": [
    {
     "name": "stdout",
     "output_type": "stream",
     "text": [
      "      Education  JoiningYear       City  PaymentTier  Age  Gender EverBenched  \\\n",
      "0     Bachelors         2017  Bangalore            3   34    Male          No   \n",
      "1     Bachelors         2013       Pune            1   28  Female          No   \n",
      "2     Bachelors         2014  New Delhi            3   38  Female          No   \n",
      "3       Masters         2016  Bangalore            3   27    Male          No   \n",
      "4       Masters         2017       Pune            3   24    Male         Yes   \n",
      "...         ...          ...        ...          ...  ...     ...         ...   \n",
      "4648  Bachelors         2013  Bangalore            3   26  Female          No   \n",
      "4649    Masters         2013       Pune            2   37    Male          No   \n",
      "4650    Masters         2018  New Delhi            3   27    Male          No   \n",
      "4651  Bachelors         2012  Bangalore            3   30    Male         Yes   \n",
      "4652  Bachelors         2015  Bangalore            3   33    Male         Yes   \n",
      "\n",
      "      ExperienceInCurrentDomain  LeaveOrNot  \n",
      "0                             0           0  \n",
      "1                             3           1  \n",
      "2                             2           0  \n",
      "3                             5           1  \n",
      "4                             2           1  \n",
      "...                         ...         ...  \n",
      "4648                          4           0  \n",
      "4649                          2           1  \n",
      "4650                          5           1  \n",
      "4651                          2           0  \n",
      "4652                          4           0  \n",
      "\n",
      "[4653 rows x 9 columns]\n",
      "      Education  JoiningYear       City  PaymentTier  Age  Gender EverBenched  \\\n",
      "0     Bachelors         2017  Bangalore            3   34    Male          No   \n",
      "1     Bachelors         2013       Pune            1   28  Female          No   \n",
      "2     Bachelors         2014  New Delhi            3   38  Female          No   \n",
      "3       Masters         2016  Bangalore            3   27    Male          No   \n",
      "4       Masters         2017       Pune            3   24    Male         Yes   \n",
      "...         ...          ...        ...          ...  ...     ...         ...   \n",
      "4645    Masters         2017       Pune            2   31  Female          No   \n",
      "4647  Bachelors         2016       Pune            3   30    Male          No   \n",
      "4649    Masters         2013       Pune            2   37    Male          No   \n",
      "4650    Masters         2018  New Delhi            3   27    Male          No   \n",
      "4651  Bachelors         2012  Bangalore            3   30    Male         Yes   \n",
      "\n",
      "      ExperienceInCurrentDomain  LeaveOrNot  \n",
      "0                             0           0  \n",
      "1                             3           1  \n",
      "2                             2           0  \n",
      "3                             5           1  \n",
      "4                             2           1  \n",
      "...                         ...         ...  \n",
      "4645                          2           0  \n",
      "4647                          2           0  \n",
      "4649                          2           1  \n",
      "4650                          5           1  \n",
      "4651                          2           0  \n",
      "\n",
      "[2764 rows x 9 columns]\n"
     ]
    }
   ],
   "source": [
    "# Name : Deven Makwana J\n",
    "# Enrollment No : 216270307004\n",
    "\n",
    "import pandas as pd\n",
    "df=pd.read_csv('/kaggle/input/employee-dataset/Employee.csv')\n",
    "df_cleaned=df.drop_duplicates()\n",
    "print(df)\n",
    "print(df_cleaned)\n",
    "\n"
   ]
  },
  {
   "cell_type": "code",
   "execution_count": null,
   "id": "9b237458",
   "metadata": {
    "papermill": {
     "duration": 0.002275,
     "end_time": "2023-10-20T07:05:03.434968",
     "exception": false,
     "start_time": "2023-10-20T07:05:03.432693",
     "status": "completed"
    },
    "tags": []
   },
   "outputs": [],
   "source": []
  }
 ],
 "metadata": {
  "kernelspec": {
   "display_name": "Python 3",
   "language": "python",
   "name": "python3"
  },
  "language_info": {
   "codemirror_mode": {
    "name": "ipython",
    "version": 3
   },
   "file_extension": ".py",
   "mimetype": "text/x-python",
   "name": "python",
   "nbconvert_exporter": "python",
   "pygments_lexer": "ipython3",
   "version": "3.10.12"
  },
  "papermill": {
   "default_parameters": {},
   "duration": 5.969215,
   "end_time": "2023-10-20T07:05:03.958824",
   "environment_variables": {},
   "exception": null,
   "input_path": "__notebook__.ipynb",
   "output_path": "__notebook__.ipynb",
   "parameters": {},
   "start_time": "2023-10-20T07:04:57.989609",
   "version": "2.4.0"
  }
 },
 "nbformat": 4,
 "nbformat_minor": 5
}
