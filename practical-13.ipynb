{
 "cells": [
  {
   "cell_type": "markdown",
   "id": "ba05ca02",
   "metadata": {
    "_cell_guid": "b1076dfc-b9ad-4769-8c92-a6c4dae69d19",
    "_uuid": "8f2839f25d086af736a60e9eeb907d3b93b6e0e5",
    "papermill": {
     "duration": 0.002246,
     "end_time": "2023-11-04T13:57:53.454992",
     "exception": false,
     "start_time": "2023-11-04T13:57:53.452746",
     "status": "completed"
    },
    "tags": []
   },
   "source": [
    "### Practical No.13: Write a Python program to implement K-Nearest Neighbour supervised machine learning algorithm for given dataset.\n"
   ]
  },
  {
   "cell_type": "code",
   "execution_count": 1,
   "id": "505ad418",
   "metadata": {
    "execution": {
     "iopub.execute_input": "2023-11-04T13:57:53.460804Z",
     "iopub.status.busy": "2023-11-04T13:57:53.460064Z",
     "iopub.status.idle": "2023-11-04T13:57:55.093238Z",
     "shell.execute_reply": "2023-11-04T13:57:55.092137Z"
    },
    "papermill": {
     "duration": 1.641304,
     "end_time": "2023-11-04T13:57:55.098204",
     "exception": false,
     "start_time": "2023-11-04T13:57:53.456900",
     "status": "completed"
    },
    "tags": []
   },
   "outputs": [
    {
     "name": "stdout",
     "output_type": "stream",
     "text": [
      "Accuracy of K-NN with k=3: 0.81\n"
     ]
    }
   ],
   "source": [
    "# Name : Deven Makwana J\n",
    "# Enrollment No : 216270307004\n",
    "\n",
    "from sklearn.model_selection import train_test_split\n",
    "from sklearn.neighbors import KNeighborsClassifier\n",
    "from sklearn import datasets\n",
    "from sklearn.metrics import accuracy_score\n",
    "data = datasets.load_wine()\n",
    "X = data.data  \n",
    "y = data.target \n",
    "\n",
    "X_train, X_test, y_train, y_test = train_test_split(X, y, test_size=0.2, random_state=42)\n",
    "k=3\n",
    "knn = KNeighborsClassifier(n_neighbors=k)\n",
    "\n",
    "\n",
    "knn.fit(X_train, y_train)\n",
    "\n",
    "\n",
    "y_pred = knn.predict(X_test)\n",
    "\n",
    "\n",
    "accuracy = accuracy_score(y_test, y_pred)\n",
    "print(f\"Accuracy of K-NN with k={k}: {accuracy:.2f}\")"
   ]
  }
 ],
 "metadata": {
  "kernelspec": {
   "display_name": "Python 3",
   "language": "python",
   "name": "python3"
  },
  "language_info": {
   "codemirror_mode": {
    "name": "ipython",
    "version": 3
   },
   "file_extension": ".py",
   "mimetype": "text/x-python",
   "name": "python",
   "nbconvert_exporter": "python",
   "pygments_lexer": "ipython3",
   "version": "3.10.12"
  },
  "papermill": {
   "default_parameters": {},
   "duration": 5.754856,
   "end_time": "2023-11-04T13:57:55.619841",
   "environment_variables": {},
   "exception": null,
   "input_path": "__notebook__.ipynb",
   "output_path": "__notebook__.ipynb",
   "parameters": {},
   "start_time": "2023-11-04T13:57:49.864985",
   "version": "2.4.0"
  }
 },
 "nbformat": 4,
 "nbformat_minor": 5
}
